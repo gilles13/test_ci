{
 "cells": [
  {
   "cell_type": "markdown",
   "id": "99498b1f",
   "metadata": {},
   "source": [
    "# Exemple un peu plus sympa\n",
    "\n",
    "Ici, on montre comment télécharger des données, et les représenter."
   ]
  },
  {
   "cell_type": "code",
   "execution_count": null,
   "id": "f4197a9b",
   "metadata": {},
   "outputs": [],
   "source": [
    "import pandas as pd\n",
    "import urllib.request\n",
    "import matplotlib.pyplot as plt\n",
    "\n",
    "# TODO"
   ]
  }
 ],
 "metadata": {
  "kernelspec": {
   "display_name": "Python 3 (ipykernel)",
   "language": "python",
   "name": "python3"
  },
  "language_info": {
   "codemirror_mode": {
    "name": "ipython",
    "version": 3
   },
   "file_extension": ".py",
   "mimetype": "text/x-python",
   "name": "python",
   "nbconvert_exporter": "python",
   "pygments_lexer": "ipython3",
   "version": "3.9.6"
  }
 },
 "nbformat": 4,
 "nbformat_minor": 5
}
