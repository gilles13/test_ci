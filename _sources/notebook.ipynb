{
 "cells": [
  {
   "cell_type": "markdown",
   "id": "1470b1d8",
   "metadata": {},
   "source": [
    "# Mon beau *notebook*\n",
    "\n",
    "Il a trop la classe"
   ]
  },
  {
   "cell_type": "code",
   "execution_count": 1,
   "id": "f88ff0de",
   "metadata": {},
   "outputs": [
    {
     "data": {
      "text/plain": [
       "array([[0.6464485 , 0.3318537 ],\n",
       "       [0.58043935, 0.79816248],\n",
       "       [0.82238126, 0.25271904]])"
      ]
     },
     "execution_count": 1,
     "metadata": {},
     "output_type": "execute_result"
    }
   ],
   "source": [
    "import numpy as np\n",
    "\n",
    "np.random.rand(3,2)"
   ]
  }
 ],
 "metadata": {
  "kernelspec": {
   "display_name": "Python 3 (ipykernel)",
   "language": "python",
   "name": "python3"
  },
  "language_info": {
   "codemirror_mode": {
    "name": "ipython",
    "version": 3
   },
   "file_extension": ".py",
   "mimetype": "text/x-python",
   "name": "python",
   "nbconvert_exporter": "python",
   "pygments_lexer": "ipython3",
   "version": "3.9.6"
  }
 },
 "nbformat": 4,
 "nbformat_minor": 5
}
